{
 "cells": [
  {
   "cell_type": "code",
   "execution_count": 17,
   "metadata": {},
   "outputs": [],
   "source": [
    "import numpy as np\n",
    "import pandas as pd\n",
    "import matplotlib.pyplot as plt\n",
    "import seaborn as sns\n"
   ]
  },
  {
   "cell_type": "code",
   "execution_count": 18,
   "metadata": {},
   "outputs": [
    {
     "data": {
      "text/html": [
       "<div>\n",
       "<style scoped>\n",
       "    .dataframe tbody tr th:only-of-type {\n",
       "        vertical-align: middle;\n",
       "    }\n",
       "\n",
       "    .dataframe tbody tr th {\n",
       "        vertical-align: top;\n",
       "    }\n",
       "\n",
       "    .dataframe thead th {\n",
       "        text-align: right;\n",
       "    }\n",
       "</style>\n",
       "<table border=\"1\" class=\"dataframe\">\n",
       "  <thead>\n",
       "    <tr style=\"text-align: right;\">\n",
       "      <th></th>\n",
       "      <th>ID</th>\n",
       "      <th>Name</th>\n",
       "      <th>Email</th>\n",
       "      <th>Role</th>\n",
       "      <th>Allowed_Usage_Hours</th>\n",
       "      <th>Actual_Usage_Hours</th>\n",
       "    </tr>\n",
       "  </thead>\n",
       "  <tbody>\n",
       "    <tr>\n",
       "      <th>0</th>\n",
       "      <td>ccae2e7e</td>\n",
       "      <td>Tommy Mcdaniel</td>\n",
       "      <td>angela69@example.org</td>\n",
       "      <td>Client</td>\n",
       "      <td>12.0</td>\n",
       "      <td>10.42</td>\n",
       "    </tr>\n",
       "    <tr>\n",
       "      <th>1</th>\n",
       "      <td>5daf8d97</td>\n",
       "      <td>Johnny Marshall</td>\n",
       "      <td>dalepierce@example.com</td>\n",
       "      <td>Client</td>\n",
       "      <td>12.0</td>\n",
       "      <td>12.72</td>\n",
       "    </tr>\n",
       "    <tr>\n",
       "      <th>2</th>\n",
       "      <td>904b475b</td>\n",
       "      <td>Earl Kennedy</td>\n",
       "      <td>cindywood@example.com</td>\n",
       "      <td>Client</td>\n",
       "      <td>12.0</td>\n",
       "      <td>12.54</td>\n",
       "    </tr>\n",
       "    <tr>\n",
       "      <th>3</th>\n",
       "      <td>bb7f6157</td>\n",
       "      <td>George Hart</td>\n",
       "      <td>herreramarissa@example.net</td>\n",
       "      <td>Client</td>\n",
       "      <td>12.0</td>\n",
       "      <td>11.63</td>\n",
       "    </tr>\n",
       "    <tr>\n",
       "      <th>4</th>\n",
       "      <td>a60e9216</td>\n",
       "      <td>Amanda Contreras</td>\n",
       "      <td>mhogan@example.com</td>\n",
       "      <td>Client</td>\n",
       "      <td>12.0</td>\n",
       "      <td>12.29</td>\n",
       "    </tr>\n",
       "  </tbody>\n",
       "</table>\n",
       "</div>"
      ],
      "text/plain": [
       "         ID              Name                       Email    Role  \\\n",
       "0  ccae2e7e    Tommy Mcdaniel        angela69@example.org  Client   \n",
       "1  5daf8d97   Johnny Marshall      dalepierce@example.com  Client   \n",
       "2  904b475b      Earl Kennedy       cindywood@example.com  Client   \n",
       "3  bb7f6157       George Hart  herreramarissa@example.net  Client   \n",
       "4  a60e9216  Amanda Contreras          mhogan@example.com  Client   \n",
       "\n",
       "   Allowed_Usage_Hours  Actual_Usage_Hours  \n",
       "0                 12.0               10.42  \n",
       "1                 12.0               12.72  \n",
       "2                 12.0               12.54  \n",
       "3                 12.0               11.63  \n",
       "4                 12.0               12.29  "
      ]
     },
     "execution_count": 18,
     "metadata": {},
     "output_type": "execute_result"
    }
   ],
   "source": [
    "\n",
    "#load data\n",
    "data = r\"C:\\Users\\Barkha\\Desktop\\Ansh Program\\Smart-Light-Energy-Management-System\\data\\sensor_data.csv\"\n",
    "df = pd.read_csv(data)\n",
    "df.head()"
   ]
  },
  {
   "cell_type": "code",
   "execution_count": 19,
   "metadata": {},
   "outputs": [
    {
     "data": {
      "text/html": [
       "<div>\n",
       "<style scoped>\n",
       "    .dataframe tbody tr th:only-of-type {\n",
       "        vertical-align: middle;\n",
       "    }\n",
       "\n",
       "    .dataframe tbody tr th {\n",
       "        vertical-align: top;\n",
       "    }\n",
       "\n",
       "    .dataframe thead th {\n",
       "        text-align: right;\n",
       "    }\n",
       "</style>\n",
       "<table border=\"1\" class=\"dataframe\">\n",
       "  <thead>\n",
       "    <tr style=\"text-align: right;\">\n",
       "      <th></th>\n",
       "      <th>ID</th>\n",
       "      <th>Name</th>\n",
       "      <th>Email</th>\n",
       "      <th>Role</th>\n",
       "      <th>Allowed_Usage_Hours</th>\n",
       "      <th>Actual_Usage_Hours</th>\n",
       "    </tr>\n",
       "  </thead>\n",
       "  <tbody>\n",
       "    <tr>\n",
       "      <th>995</th>\n",
       "      <td>dee277c3</td>\n",
       "      <td>Barbara Carlson</td>\n",
       "      <td>stephen59@example.org</td>\n",
       "      <td>Worker</td>\n",
       "      <td>0.5</td>\n",
       "      <td>2.27</td>\n",
       "    </tr>\n",
       "    <tr>\n",
       "      <th>996</th>\n",
       "      <td>abe63e1f</td>\n",
       "      <td>Susan Grimes</td>\n",
       "      <td>hkelly@example.org</td>\n",
       "      <td>Worker</td>\n",
       "      <td>0.5</td>\n",
       "      <td>2.64</td>\n",
       "    </tr>\n",
       "    <tr>\n",
       "      <th>997</th>\n",
       "      <td>6f2f6518</td>\n",
       "      <td>Joseph Hamilton</td>\n",
       "      <td>frazierluis@example.org</td>\n",
       "      <td>Worker</td>\n",
       "      <td>0.5</td>\n",
       "      <td>2.05</td>\n",
       "    </tr>\n",
       "    <tr>\n",
       "      <th>998</th>\n",
       "      <td>7f0e8807</td>\n",
       "      <td>Alexander Hernandez</td>\n",
       "      <td>carolbrown@example.net</td>\n",
       "      <td>Worker</td>\n",
       "      <td>0.5</td>\n",
       "      <td>1.26</td>\n",
       "    </tr>\n",
       "    <tr>\n",
       "      <th>999</th>\n",
       "      <td>42f3c808</td>\n",
       "      <td>Christopher Allen</td>\n",
       "      <td>williamsthomas@example.net</td>\n",
       "      <td>Worker</td>\n",
       "      <td>0.5</td>\n",
       "      <td>0.72</td>\n",
       "    </tr>\n",
       "  </tbody>\n",
       "</table>\n",
       "</div>"
      ],
      "text/plain": [
       "           ID                 Name                       Email    Role  \\\n",
       "995  dee277c3      Barbara Carlson       stephen59@example.org  Worker   \n",
       "996  abe63e1f         Susan Grimes          hkelly@example.org  Worker   \n",
       "997  6f2f6518      Joseph Hamilton     frazierluis@example.org  Worker   \n",
       "998  7f0e8807  Alexander Hernandez      carolbrown@example.net  Worker   \n",
       "999  42f3c808    Christopher Allen  williamsthomas@example.net  Worker   \n",
       "\n",
       "     Allowed_Usage_Hours  Actual_Usage_Hours  \n",
       "995                  0.5                2.27  \n",
       "996                  0.5                2.64  \n",
       "997                  0.5                2.05  \n",
       "998                  0.5                1.26  \n",
       "999                  0.5                0.72  "
      ]
     },
     "execution_count": 19,
     "metadata": {},
     "output_type": "execute_result"
    }
   ],
   "source": [
    "df.tail()"
   ]
  },
  {
   "cell_type": "code",
   "execution_count": 20,
   "metadata": {},
   "outputs": [
    {
     "name": "stdout",
     "output_type": "stream",
     "text": [
      "<class 'pandas.core.frame.DataFrame'>\n",
      "RangeIndex: 1000 entries, 0 to 999\n",
      "Data columns (total 6 columns):\n",
      " #   Column               Non-Null Count  Dtype  \n",
      "---  ------               --------------  -----  \n",
      " 0   ID                   1000 non-null   object \n",
      " 1   Name                 1000 non-null   object \n",
      " 2   Email                1000 non-null   object \n",
      " 3   Role                 1000 non-null   object \n",
      " 4   Allowed_Usage_Hours  1000 non-null   float64\n",
      " 5   Actual_Usage_Hours   1000 non-null   float64\n",
      "dtypes: float64(2), object(4)\n",
      "memory usage: 47.0+ KB\n"
     ]
    }
   ],
   "source": [
    "df.info()"
   ]
  },
  {
   "cell_type": "code",
   "execution_count": 21,
   "metadata": {},
   "outputs": [
    {
     "data": {
      "text/plain": [
       "ID                     0\n",
       "Name                   0\n",
       "Email                  0\n",
       "Role                   0\n",
       "Allowed_Usage_Hours    0\n",
       "Actual_Usage_Hours     0\n",
       "dtype: int64"
      ]
     },
     "execution_count": 21,
     "metadata": {},
     "output_type": "execute_result"
    }
   ],
   "source": [
    "#check null values\n",
    "df.isnull().sum()"
   ]
  },
  {
   "cell_type": "code",
   "execution_count": 22,
   "metadata": {},
   "outputs": [],
   "source": [
    "# Remove duplicates if any\n",
    "df = df.drop_duplicates()"
   ]
  },
  {
   "cell_type": "markdown",
   "metadata": {},
   "source": [
    "# EDA\n"
   ]
  },
  {
   "cell_type": "code",
   "execution_count": 23,
   "metadata": {},
   "outputs": [
    {
     "data": {
      "text/plain": [
       "Index(['ID', 'Name', 'Email', 'Role', 'Allowed_Usage_Hours',\n",
       "       'Actual_Usage_Hours'],\n",
       "      dtype='object')"
      ]
     },
     "execution_count": 23,
     "metadata": {},
     "output_type": "execute_result"
    }
   ],
   "source": [
    "df.columns"
   ]
  },
  {
   "cell_type": "code",
   "execution_count": 29,
   "metadata": {},
   "outputs": [
    {
     "data": {
      "image/png": "[encoded data removed]",
      "text/plain": [
       "<Figure size 640x480 with 1 Axes>"
      ]
     },
     "metadata": {},
     "output_type": "display_data"
    }
   ],
   "source": [
    "#Total number of clients and workers\n",
    "\n",
    "ax = sns.histplot(data=df[\"Role\"])\n",
    "for bars in ax.containers:\n",
    "    ax.bar_label(bars)\n"
   ]
  },
  {
   "cell_type": "code",
   "execution_count": 36,
   "metadata": {},
   "outputs": [
    {
     "data": {
      "text/html": [
       "<div>\n",
       "<style scoped>\n",
       "    .dataframe tbody tr th:only-of-type {\n",
       "        vertical-align: middle;\n",
       "    }\n",
       "\n",
       "    .dataframe tbody tr th {\n",
       "        vertical-align: top;\n",
       "    }\n",
       "\n",
       "    .dataframe thead th {\n",
       "        text-align: right;\n",
       "    }\n",
       "</style>\n",
       "<table border=\"1\" class=\"dataframe\">\n",
       "  <thead>\n",
       "    <tr style=\"text-align: right;\">\n",
       "      <th></th>\n",
       "      <th>ID</th>\n",
       "      <th>Name</th>\n",
       "      <th>Email</th>\n",
       "      <th>Role</th>\n",
       "      <th>Allowed_Usage_Hours</th>\n",
       "      <th>Actual_Usage_Hours</th>\n",
       "    </tr>\n",
       "  </thead>\n",
       "  <tbody>\n",
       "    <tr>\n",
       "      <th>1</th>\n",
       "      <td>5daf8d97</td>\n",
       "      <td>Johnny Marshall</td>\n",
       "      <td>dalepierce@example.com</td>\n",
       "      <td>Client</td>\n",
       "      <td>12.0</td>\n",
       "      <td>12.72</td>\n",
       "    </tr>\n",
       "    <tr>\n",
       "      <th>2</th>\n",
       "      <td>904b475b</td>\n",
       "      <td>Earl Kennedy</td>\n",
       "      <td>cindywood@example.com</td>\n",
       "      <td>Client</td>\n",
       "      <td>12.0</td>\n",
       "      <td>12.54</td>\n",
       "    </tr>\n",
       "    <tr>\n",
       "      <th>4</th>\n",
       "      <td>a60e9216</td>\n",
       "      <td>Amanda Contreras</td>\n",
       "      <td>mhogan@example.com</td>\n",
       "      <td>Client</td>\n",
       "      <td>12.0</td>\n",
       "      <td>12.29</td>\n",
       "    </tr>\n",
       "    <tr>\n",
       "      <th>8</th>\n",
       "      <td>52a55d5e</td>\n",
       "      <td>Lisa Gibson</td>\n",
       "      <td>fmiller@example.org</td>\n",
       "      <td>Client</td>\n",
       "      <td>12.0</td>\n",
       "      <td>12.69</td>\n",
       "    </tr>\n",
       "    <tr>\n",
       "      <th>9</th>\n",
       "      <td>29b8ec52</td>\n",
       "      <td>Robin Sanchez</td>\n",
       "      <td>alexandria08@example.net</td>\n",
       "      <td>Client</td>\n",
       "      <td>12.0</td>\n",
       "      <td>12.26</td>\n",
       "    </tr>\n",
       "  </tbody>\n",
       "</table>\n",
       "</div>"
      ],
      "text/plain": [
       "         ID              Name                     Email    Role  \\\n",
       "1  5daf8d97   Johnny Marshall    dalepierce@example.com  Client   \n",
       "2  904b475b      Earl Kennedy     cindywood@example.com  Client   \n",
       "4  a60e9216  Amanda Contreras        mhogan@example.com  Client   \n",
       "8  52a55d5e       Lisa Gibson       fmiller@example.org  Client   \n",
       "9  29b8ec52     Robin Sanchez  alexandria08@example.net  Client   \n",
       "\n",
       "   Allowed_Usage_Hours  Actual_Usage_Hours  \n",
       "1                 12.0               12.72  \n",
       "2                 12.0               12.54  \n",
       "4                 12.0               12.29  \n",
       "8                 12.0               12.69  \n",
       "9                 12.0               12.26  "
      ]
     },
     "execution_count": 36,
     "metadata": {},
     "output_type": "execute_result"
    }
   ],
   "source": [
    "# Filter clients who used more energy than allowed\n",
    "overused_clients = df[(df[\"Role\"] == \"Client\") & (df[\"Actual_Usage_Hours\"] > df[\"Allowed_Usage_Hours\"])]\n",
    "\n",
    "# Save to a new CSV\n",
    "overused_clients.to_csv(\"data/overused_clients.csv\", index=False)\n",
    "\n",
    "# Display insights\n",
    "overused_clients.head()\n"
   ]
  },
  {
   "cell_type": "code",
   "execution_count": 38,
   "metadata": {},
   "outputs": [
    {
     "data": {
      "text/plain": [
       "(431, 6)"
      ]
     },
     "execution_count": 38,
     "metadata": {},
     "output_type": "execute_result"
    }
   ],
   "source": [
    "overused_clients.shape"
   ]
  },
  {
   "cell_type": "markdown",
   "metadata": {},
   "source": [
    "- There are toal 431 clients those use extra enery"
   ]
  },
  {
   "cell_type": "code",
   "execution_count": 39,
   "metadata": {},
   "outputs": [
    {
     "data": {
      "text/html": [
       "<div>\n",
       "<style scoped>\n",
       "    .dataframe tbody tr th:only-of-type {\n",
       "        vertical-align: middle;\n",
       "    }\n",
       "\n",
       "    .dataframe tbody tr th {\n",
       "        vertical-align: top;\n",
       "    }\n",
       "\n",
       "    .dataframe thead th {\n",
       "        text-align: right;\n",
       "    }\n",
       "</style>\n",
       "<table border=\"1\" class=\"dataframe\">\n",
       "  <thead>\n",
       "    <tr style=\"text-align: right;\">\n",
       "      <th></th>\n",
       "      <th>ID</th>\n",
       "      <th>Name</th>\n",
       "      <th>Email</th>\n",
       "      <th>Role</th>\n",
       "      <th>Allowed_Usage_Hours</th>\n",
       "      <th>Actual_Usage_Hours</th>\n",
       "    </tr>\n",
       "  </thead>\n",
       "  <tbody>\n",
       "    <tr>\n",
       "      <th>700</th>\n",
       "      <td>8af48b7b</td>\n",
       "      <td>Denise Lane</td>\n",
       "      <td>rhonda38@example.org</td>\n",
       "      <td>Worker</td>\n",
       "      <td>0.5</td>\n",
       "      <td>1.46</td>\n",
       "    </tr>\n",
       "    <tr>\n",
       "      <th>701</th>\n",
       "      <td>370ddbfb</td>\n",
       "      <td>Amy Richard</td>\n",
       "      <td>xrios@example.org</td>\n",
       "      <td>Worker</td>\n",
       "      <td>0.5</td>\n",
       "      <td>1.39</td>\n",
       "    </tr>\n",
       "    <tr>\n",
       "      <th>702</th>\n",
       "      <td>4cde9126</td>\n",
       "      <td>Brooke Cruz</td>\n",
       "      <td>robertball@example.net</td>\n",
       "      <td>Worker</td>\n",
       "      <td>0.5</td>\n",
       "      <td>0.65</td>\n",
       "    </tr>\n",
       "    <tr>\n",
       "      <th>703</th>\n",
       "      <td>70adc19c</td>\n",
       "      <td>Lauren Hernandez</td>\n",
       "      <td>eburton@example.org</td>\n",
       "      <td>Worker</td>\n",
       "      <td>0.5</td>\n",
       "      <td>1.81</td>\n",
       "    </tr>\n",
       "    <tr>\n",
       "      <th>704</th>\n",
       "      <td>5ff0fce1</td>\n",
       "      <td>Paul Griffin</td>\n",
       "      <td>sarah13@example.net</td>\n",
       "      <td>Worker</td>\n",
       "      <td>0.5</td>\n",
       "      <td>2.49</td>\n",
       "    </tr>\n",
       "  </tbody>\n",
       "</table>\n",
       "</div>"
      ],
      "text/plain": [
       "           ID              Name                   Email    Role  \\\n",
       "700  8af48b7b       Denise Lane    rhonda38@example.org  Worker   \n",
       "701  370ddbfb       Amy Richard       xrios@example.org  Worker   \n",
       "702  4cde9126       Brooke Cruz  robertball@example.net  Worker   \n",
       "703  70adc19c  Lauren Hernandez     eburton@example.org  Worker   \n",
       "704  5ff0fce1      Paul Griffin     sarah13@example.net  Worker   \n",
       "\n",
       "     Allowed_Usage_Hours  Actual_Usage_Hours  \n",
       "700                  0.5                1.46  \n",
       "701                  0.5                1.39  \n",
       "702                  0.5                0.65  \n",
       "703                  0.5                1.81  \n",
       "704                  0.5                2.49  "
      ]
     },
     "execution_count": 39,
     "metadata": {},
     "output_type": "execute_result"
    }
   ],
   "source": [
    "# Filter workers who used more than allowed cleaning time (30 min = 0.5 hours)\n",
    "overused_workers = df[(df[\"Role\"] == \"Worker\") & (df[\"Actual_Usage_Hours\"] > df[\"Allowed_Usage_Hours\"])]\n",
    "\n",
    "# Save to a new CSV\n",
    "overused_workers.to_csv(\"data/overused_workers.csv\", index=False)\n",
    "\n",
    "# Display insights\n",
    "overused_workers.head()\n"
   ]
  },
  {
   "cell_type": "code",
   "execution_count": 40,
   "metadata": {},
   "outputs": [
    {
     "data": {
      "text/plain": [
       "(275, 6)"
      ]
     },
     "execution_count": 40,
     "metadata": {},
     "output_type": "execute_result"
    }
   ],
   "source": [
    "overused_workers.shape"
   ]
  },
  {
   "cell_type": "markdown",
   "metadata": {},
   "source": [
    "- there are 275 workers who use extra energy"
   ]
  },
  {
   "cell_type": "code",
   "execution_count": 41,
   "metadata": {},
   "outputs": [
    {
     "name": "stdout",
     "output_type": "stream",
     "text": [
      "Total clients exceeding allowed hours: 431\n",
      "Total workers exceeding cleaning time: 275\n"
     ]
    }
   ],
   "source": [
    "# Count of overusing clients\n",
    "print(f\"Total clients exceeding allowed hours: {len(overused_clients)}\")\n",
    "\n",
    "# Count of overusing workers\n",
    "print(f\"Total workers exceeding cleaning time: {len(overused_workers)}\")\n"
   ]
  },
  {
   "cell_type": "markdown",
   "metadata": {},
   "source": [
    "# MODEL"
   ]
  },
  {
   "cell_type": "code",
   "execution_count": 49,
   "metadata": {},
   "outputs": [],
   "source": [
    "\n",
    "from sklearn.model_selection import train_test_split\n",
    "from sklearn.metrics import r2_score, mean_absolute_error, mean_squared_error\n",
    "from sklearn.linear_model import LinearRegression\n",
    "from sklearn.tree import DecisionTreeRegressor\n",
    "from sklearn.ensemble import RandomForestRegressor\n",
    "from sklearn.svm import SVR\n",
    "from sklearn.neighbors import KNeighborsRegressor"
   ]
  },
  {
   "cell_type": "code",
   "execution_count": 50,
   "metadata": {},
   "outputs": [],
   "source": [
    "# Create a new column for Maintenance Cost (Assume more energy use increases cost)\n",
    "df[\"Maintenance_Cost\"] = df[\"Actual_Usage_Hours\"] * 10  # Assume cost is proportional\n",
    "\n",
    "# Select features and target\n",
    "X = df[[\"Actual_Usage_Hours\"]]\n",
    "y = df[\"Maintenance_Cost\"]\n",
    "\n",
    "# Train-test split\n",
    "X_train, X_test, y_train, y_test = train_test_split(X, y, test_size=0.2, random_state=42)\n"
   ]
  },
  {
   "cell_type": "code",
   "execution_count": 51,
   "metadata": {},
   "outputs": [
    {
     "name": "stdout",
     "output_type": "stream",
     "text": [
      "📌 Linear Regression Results:\n",
      "✅ R² Score: 1.0000 | MAE: 0.0000 | RMSE: 0.0000\n",
      "\n",
      "📌 Decision Tree Results:\n",
      "✅ R² Score: 1.0000 | MAE: 0.0380 | RMSE: 0.0656\n",
      "\n",
      "📌 Random Forest Results:\n",
      "✅ R² Score: 1.0000 | MAE: 0.0374 | RMSE: 0.0522\n",
      "\n",
      "📌 SVR Results:\n",
      "✅ R² Score: 0.9989 | MAE: 0.8745 | RMSE: 1.6604\n",
      "\n",
      "📌 KNN Results:\n",
      "✅ R² Score: 1.0000 | MAE: 0.0598 | RMSE: 0.0809\n",
      "\n"
     ]
    }
   ],
   "source": [
    "# Define models\n",
    "models = {\n",
    "    \"Linear Regression\": LinearRegression(),\n",
    "    \"Decision Tree\": DecisionTreeRegressor(),\n",
    "    \"Random Forest\": RandomForestRegressor(n_estimators=100, random_state=42),\n",
    "    \"SVR\": SVR(kernel='rbf'),\n",
    "    \"KNN\": KNeighborsRegressor(n_neighbors=5)\n",
    "}\n",
    "\n",
    "# Store model performance\n",
    "results = {}\n",
    "\n",
    "# Train & Evaluate Models\n",
    "for name, model in models.items():\n",
    "    model.fit(X_train, y_train)  # Train\n",
    "    y_pred = model.predict(X_test)  # Predict\n",
    "    \n",
    "    # Calculate metrics\n",
    "    r2 = r2_score(y_test, y_pred)\n",
    "    mae = mean_absolute_error(y_test, y_pred)\n",
    "    rmse = np.sqrt(mean_squared_error(y_test, y_pred))\n",
    "    \n",
    "    # Store results\n",
    "    results[name] = {\"R² Score\": r2, \"MAE\": mae, \"RMSE\": rmse}\n",
    "    \n",
    "    print(f\"📌 {name} Results:\")\n",
    "    print(f\"✅ R² Score: {r2:.4f} | MAE: {mae:.4f} | RMSE: {rmse:.4f}\\n\")\n"
   ]
  },
  {
   "cell_type": "code",
   "execution_count": 52,
   "metadata": {},
   "outputs": [
    {
     "name": "stdout",
     "output_type": "stream",
     "text": [
      "📊 Model Comparison:\n"
     ]
    },
    {
     "data": {
      "text/html": [
       "<div>\n",
       "<style scoped>\n",
       "    .dataframe tbody tr th:only-of-type {\n",
       "        vertical-align: middle;\n",
       "    }\n",
       "\n",
       "    .dataframe tbody tr th {\n",
       "        vertical-align: top;\n",
       "    }\n",
       "\n",
       "    .dataframe thead th {\n",
       "        text-align: right;\n",
       "    }\n",
       "</style>\n",
       "<table border=\"1\" class=\"dataframe\">\n",
       "  <thead>\n",
       "    <tr style=\"text-align: right;\">\n",
       "      <th></th>\n",
       "      <th>R² Score</th>\n",
       "      <th>MAE</th>\n",
       "      <th>RMSE</th>\n",
       "    </tr>\n",
       "  </thead>\n",
       "  <tbody>\n",
       "    <tr>\n",
       "      <th>Linear Regression</th>\n",
       "      <td>1.000000</td>\n",
       "      <td>1.307399e-14</td>\n",
       "      <td>1.523944e-14</td>\n",
       "    </tr>\n",
       "    <tr>\n",
       "      <th>Random Forest</th>\n",
       "      <td>0.999999</td>\n",
       "      <td>3.738000e-02</td>\n",
       "      <td>5.219464e-02</td>\n",
       "    </tr>\n",
       "    <tr>\n",
       "      <th>Decision Tree</th>\n",
       "      <td>0.999998</td>\n",
       "      <td>3.800000e-02</td>\n",
       "      <td>6.557439e-02</td>\n",
       "    </tr>\n",
       "    <tr>\n",
       "      <th>KNN</th>\n",
       "      <td>0.999997</td>\n",
       "      <td>5.980000e-02</td>\n",
       "      <td>8.089499e-02</td>\n",
       "    </tr>\n",
       "    <tr>\n",
       "      <th>SVR</th>\n",
       "      <td>0.998916</td>\n",
       "      <td>8.744909e-01</td>\n",
       "      <td>1.660363e+00</td>\n",
       "    </tr>\n",
       "  </tbody>\n",
       "</table>\n",
       "</div>"
      ],
      "text/plain": [
       "                   R² Score           MAE          RMSE\n",
       "Linear Regression  1.000000  1.307399e-14  1.523944e-14\n",
       "Random Forest      0.999999  3.738000e-02  5.219464e-02\n",
       "Decision Tree      0.999998  3.800000e-02  6.557439e-02\n",
       "KNN                0.999997  5.980000e-02  8.089499e-02\n",
       "SVR                0.998916  8.744909e-01  1.660363e+00"
      ]
     },
     "metadata": {},
     "output_type": "display_data"
    },
    {
     "name": "stderr",
     "output_type": "stream",
     "text": [
      "C:\\Users\\Barkha\\AppData\\Local\\Temp\\ipykernel_11696\\911186312.py:13: FutureWarning: \n",
      "\n",
      "Passing `palette` without assigning `hue` is deprecated and will be removed in v0.14.0. Assign the `x` variable to `hue` and set `legend=False` for the same effect.\n",
      "\n",
      "  sns.barplot(x=results_df.index, y=results_df[\"R² Score\"], palette=\"viridis\")\n"
     ]
    },
    {
     "data": {
      "image/png": "[encoded data removed]",
      "text/plain": [
       "<Figure size 1000x500 with 1 Axes>"
      ]
     },
     "metadata": {},
     "output_type": "display_data"
    }
   ],
   "source": [
    "# Convert results into DataFrame\n",
    "results_df = pd.DataFrame(results).T\n",
    "\n",
    "# Sort by highest R² Score\n",
    "results_df = results_df.sort_values(by=\"R² Score\", ascending=False)\n",
    "\n",
    "# Display comparison\n",
    "print(\"📊 Model Comparison:\")\n",
    "display(results_df)\n",
    "\n",
    "# Visualizing Performance\n",
    "plt.figure(figsize=(10,5))\n",
    "sns.barplot(x=results_df.index, y=results_df[\"R² Score\"], palette=\"viridis\")\n",
    "plt.ylabel(\"R² Score\")\n",
    "plt.title(\"Model Performance Comparison\")\n",
    "plt.xticks(rotation=45)\n",
    "plt.show()\n"
   ]
  },
  {
   "cell_type": "code",
   "execution_count": 53,
   "metadata": {},
   "outputs": [
    {
     "name": "stdout",
     "output_type": "stream",
     "text": [
      "✅ Best Model: Linear Regression saved successfully!\n"
     ]
    }
   ],
   "source": [
    "# Select best model (Highest R² Score)\n",
    "best_model_name = results_df.index[0]\n",
    "best_model = models[best_model_name]\n",
    "\n",
    "# Train on full dataset\n",
    "best_model.fit(X, y)\n",
    "\n",
    "# Save model\n",
    "import joblib\n",
    "joblib.dump(best_model, \"best_model.pkl\")\n",
    "\n",
    "print(f\"✅ Best Model: {best_model_name} saved successfully!\")\n"
   ]
  },
  {
   "cell_type": "code",
   "execution_count": 54,
   "metadata": {},
   "outputs": [
    {
     "name": "stdout",
     "output_type": "stream",
     "text": [
      "Model Type: <class 'numpy.ndarray'>\n"
     ]
    }
   ],
   "source": [
    "import pickle\n",
    "\n",
    "with open(\"best_model.pkl\", \"rb\") as f:\n",
    "    model = pickle.load(f)\n",
    "\n",
    "print(\"Model Type:\", type(model))\n"
   ]
  },
  {
   "cell_type": "code",
   "execution_count": null,
   "metadata": {},
   "outputs": [],
   "source": []
  }
 ],
 "metadata": {
  "kernelspec": {
   "display_name": "Python 3",
   "language": "python",
   "name": "python3"
  },
  "language_info": {
   "codemirror_mode": {
    "name": "ipython",
    "version": 3
   },
   "file_extension": ".py",
   "mimetype": "text/x-python",
   "name": "python",
   "nbconvert_exporter": "python",
   "pygments_lexer": "ipython3",
   "version": "3.10.0"
  }
 },
 "nbformat": 4,
 "nbformat_minor": 2
}
